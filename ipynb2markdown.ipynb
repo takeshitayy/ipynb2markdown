{
  "nbformat": 4,
  "nbformat_minor": 0,
  "metadata": {
    "colab": {
      "provenance": [],
      "authorship_tag": "ABX9TyMytS3NZGGuqVaAi93QYv2g",
      "include_colab_link": true
    },
    "kernelspec": {
      "name": "python3",
      "display_name": "Python 3"
    },
    "language_info": {
      "name": "python"
    }
  },
  "cells": [
    {
      "cell_type": "markdown",
      "metadata": {
        "id": "view-in-github",
        "colab_type": "text"
      },
      "source": [
        "<a href=\"https://colab.research.google.com/github/takeshitayy/ipynb2markdown/blob/main/ipynb2markdown.ipynb\" target=\"_parent\"><img src=\"https://colab.research.google.com/assets/colab-badge.svg\" alt=\"Open In Colab\"/></a>"
      ]
    },
    {
      "cell_type": "markdown",
      "source": [
        "# ipynb2markdown\n",
        "\n",
        "web上に公開されている Jupyter Notebook ファイル (ipynb) を markdown に変換する\n",
        "\n",
        "google colaboratory で実行する\n",
        "\n",
        "1. `url` に公開されている Notebook ファイル (ipynb) の URL を設定\n",
        "1. `ctrl + F9` ですべてを実行する\n",
        "1. マークダウン記法とプレビューが表示される\n",
        "\n"
      ],
      "metadata": {
        "id": "KT7D0XClPwI7"
      }
    },
    {
      "cell_type": "code",
      "source": [
        "import os\n",
        "\n",
        "#@title ipynb ファイルのURLを指定する\n",
        "url = \"https://github.com/takeshitayy/ipynb2markdown/blob/main/ipynb2markdown.ipynb\" #@param {type:\"string\"}\n",
        "\n",
        "if url.startswith(\"https://github.com\"):\n",
        "    # url が https://github.com の場合は、ipynb ファイルのurlに変換する\n",
        "    url = url.replace(\"https://github.com\", \"https://raw.githubusercontent.com\").replace(\"/blob\", \"\")\n",
        "\n",
        "ipynbFilename = os.path.basename(url)\n",
        "markdownFilename = ipynbFilename + '.md'\n",
        "print('URL: ' + url)\n",
        "print('ipynbFilename: ' + ipynbFilename)\n",
        "print('markdownFilename: '+ markdownFilename)"
      ],
      "metadata": {
        "colab": {
          "base_uri": "https://localhost:8080/"
        },
        "id": "-T22JW7PQd7_",
        "outputId": "5761c73a-3501-4852-d170-bbce09dc6bd6"
      },
      "execution_count": 36,
      "outputs": [
        {
          "output_type": "stream",
          "name": "stdout",
          "text": [
            "URL: https://raw.githubusercontent.com/takeshitayy/ipynb2markdown/main/ipynb2markdown.ipynb\n",
            "ipynbFilename: ipynb2markdown.ipynb\n",
            "markdownFilename: ipynb2markdown.ipynb.md\n"
          ]
        }
      ]
    },
    {
      "cell_type": "markdown",
      "source": [
        "## ipynb ファイルをダウンロード"
      ],
      "metadata": {
        "id": "Ejq5vipgcbuI"
      }
    },
    {
      "cell_type": "code",
      "execution_count": 37,
      "metadata": {
        "id": "UjkgCX23cl4D"
      },
      "outputs": [],
      "source": [
        "import requests\n",
        "response = requests.get(url)\n",
        "\n",
        "if response.status_code == 200:\n",
        "    # レスポンスのステータスコードが200（成功）の場合、ファイルを保存\n",
        "    with open(ipynbFilename, \"wb\") as file:\n",
        "        file.write(response.content)"
      ]
    },
    {
      "cell_type": "markdown",
      "source": [
        "## ipynb ファイルを マークダウンに変換"
      ],
      "metadata": {
        "id": "02O_vWmtdp2S"
      }
    },
    {
      "cell_type": "code",
      "source": [
        "import os\n",
        "import nbconvert\n",
        "from nbconvert import MarkdownExporter\n",
        "\n",
        "# Markdownエクスポーターを作成\n",
        "exporter = MarkdownExporter()\n",
        "\n",
        " # .ipynbファイルを読み込み\n",
        "with open(ipynbFilename, \"r\", encoding=\"utf-8\") as ipynb_file:\n",
        "    notebook_content = ipynb_file.read()\n",
        "\n",
        "# .ipynbファイルを.mdファイルに変換\n",
        "\n",
        "markdownContent, _ = exporter.from_file(ipynbFilename)\n",
        "\n",
        "print(markdownContent)"
      ],
      "metadata": {
        "colab": {
          "base_uri": "https://localhost:8080/"
        },
        "id": "rOZYt7hOcr3v",
        "outputId": "e69d479c-81aa-49e3-a697-69cebdf4ca27"
      },
      "execution_count": 40,
      "outputs": [
        {
          "output_type": "stream",
          "name": "stdout",
          "text": [
            "<a href=\"https://colab.research.google.com/github/takeshitayy/ipynb2markdown/blob/main/ipynb2markdown.ipynb\" target=\"_parent\"><img src=\"https://colab.research.google.com/assets/colab-badge.svg\" alt=\"Open In Colab\"/></a>\n",
            "\n",
            "# ipynb2markdown\n",
            "\n",
            "web上に公開されている Jupyter Notebook ファイル (ipynb) を markdown に変換する\n",
            "\n",
            "google colaboratory で実行する\n",
            "\n",
            "1. `url` に公開されている Notebook ファイル (ipynb) の URL を設定\n",
            "1. `ctrl + F9` ですべてを実行する\n",
            "1. マークダウン記法とプレビューが表示される\n",
            "\n",
            "\n",
            "\n",
            "\n",
            "```python\n",
            "import os\n",
            "\n",
            "#@title ipynb ファイルのURLを指定する\n",
            "url = \"\" #@param {type:\"string\"}\n",
            "\n",
            "if url.startswith(\"https://github.com\"):\n",
            "    # url が https://github.com の場合は、ipynb ファイルのurlに変換する\n",
            "    url = url.replace(\"https://github.com\", \"https://raw.githubusercontent.com\").replace(\"/blob\", \"\")\n",
            "\n",
            "ipynbFilename = os.path.basename(url)\n",
            "markdownFilename = ipynbFilename + '.md'\n",
            "print('URL: ' + url)\n",
            "print('ipynbFilename: ' + ipynbFilename)\n",
            "print('markdownFilename: '+ markdownFilename)\n",
            "```\n",
            "\n",
            "## ipynb ファイルをダウンロード\n",
            "\n",
            "\n",
            "```python\n",
            "import requests\n",
            "response = requests.get(url)\n",
            "\n",
            "if response.status_code == 200:\n",
            "    # レスポンスのステータスコードが200（成功）の場合、ファイルを保存\n",
            "    with open(ipynbFilename, \"wb\") as file:\n",
            "        file.write(response.content)\n",
            "```\n",
            "\n",
            "## ipynb ファイルを マークダウンに変換\n",
            "\n",
            "\n",
            "```python\n",
            "import os\n",
            "import nbconvert\n",
            "from nbconvert import MarkdownExporter\n",
            "\n",
            "# Markdownエクスポーターを作成\n",
            "exporter = MarkdownExporter()\n",
            "\n",
            " # .ipynbファイルを読み込み\n",
            "with open(ipynbFilename, \"r\", encoding=\"utf-8\") as ipynb_file:\n",
            "    notebook_content = ipynb_file.read()\n",
            "\n",
            "# .ipynbファイルを.mdファイルに変換\n",
            "\n",
            "print(ipynbFilename)\n",
            "\n",
            "# markdownContent, _ = exporter.from_file(ipynbFilename)\n",
            "\n",
            "#print(markdownContent)\n",
            "```\n",
            "\n",
            "    ipynb2markdown.ipynb\n",
            "\n",
            "\n",
            "## マークダウンの内容を表示\n",
            "\n",
            "\n",
            "```python\n",
            "from IPython.display import Markdown\n",
            "\n",
            "Markdown(markdownContent)\n",
            "```\n",
            "\n"
          ]
        }
      ]
    },
    {
      "cell_type": "markdown",
      "source": [
        "## マークダウンの内容を表示"
      ],
      "metadata": {
        "id": "76YykfaEdgy1"
      }
    },
    {
      "cell_type": "code",
      "source": [
        "from IPython.display import Markdown\n",
        "\n",
        "Markdown(markdownContent)"
      ],
      "metadata": {
        "colab": {
          "base_uri": "https://localhost:8080/",
          "height": 1000
        },
        "id": "1lRMhqi5dTSF",
        "outputId": "6d9fe34b-a5ee-4197-b4ef-b8094be833c5"
      },
      "execution_count": 41,
      "outputs": [
        {
          "output_type": "execute_result",
          "data": {
            "text/plain": [
              "<IPython.core.display.Markdown object>"
            ],
            "text/markdown": "<a href=\"https://colab.research.google.com/github/takeshitayy/ipynb2markdown/blob/main/ipynb2markdown.ipynb\" target=\"_parent\"><img src=\"https://colab.research.google.com/assets/colab-badge.svg\" alt=\"Open In Colab\"/></a>\n\n# ipynb2markdown\n\nweb上に公開されている Jupyter Notebook ファイル (ipynb) を markdown に変換する\n\ngoogle colaboratory で実行する\n\n1. `url` に公開されている Notebook ファイル (ipynb) の URL を設定\n1. `ctrl + F9` ですべてを実行する\n1. マークダウン記法とプレビューが表示される\n\n\n\n\n```python\nimport os\n\n#@title ipynb ファイルのURLを指定する\nurl = \"\" #@param {type:\"string\"}\n\nif url.startswith(\"https://github.com\"):\n    # url が https://github.com の場合は、ipynb ファイルのurlに変換する\n    url = url.replace(\"https://github.com\", \"https://raw.githubusercontent.com\").replace(\"/blob\", \"\")\n\nipynbFilename = os.path.basename(url)\nmarkdownFilename = ipynbFilename + '.md'\nprint('URL: ' + url)\nprint('ipynbFilename: ' + ipynbFilename)\nprint('markdownFilename: '+ markdownFilename)\n```\n\n## ipynb ファイルをダウンロード\n\n\n```python\nimport requests\nresponse = requests.get(url)\n\nif response.status_code == 200:\n    # レスポンスのステータスコードが200（成功）の場合、ファイルを保存\n    with open(ipynbFilename, \"wb\") as file:\n        file.write(response.content)\n```\n\n## ipynb ファイルを マークダウンに変換\n\n\n```python\nimport os\nimport nbconvert\nfrom nbconvert import MarkdownExporter\n\n# Markdownエクスポーターを作成\nexporter = MarkdownExporter()\n\n # .ipynbファイルを読み込み\nwith open(ipynbFilename, \"r\", encoding=\"utf-8\") as ipynb_file:\n    notebook_content = ipynb_file.read()\n\n# .ipynbファイルを.mdファイルに変換\n\nprint(ipynbFilename)\n\n# markdownContent, _ = exporter.from_file(ipynbFilename)\n\n#print(markdownContent)\n```\n\n    ipynb2markdown.ipynb\n\n\n## マークダウンの内容を表示\n\n\n```python\nfrom IPython.display import Markdown\n\nMarkdown(markdownContent)\n```\n"
          },
          "metadata": {},
          "execution_count": 41
        }
      ]
    }
  ]
}