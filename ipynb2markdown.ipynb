{
  "nbformat": 4,
  "nbformat_minor": 0,
  "metadata": {
    "colab": {
      "provenance": [],
      "authorship_tag": "ABX9TyNMYznwtfLmL1vxmP8jpqdT",
      "include_colab_link": true
    },
    "kernelspec": {
      "name": "python3",
      "display_name": "Python 3"
    },
    "language_info": {
      "name": "python"
    }
  },
  "cells": [
    {
      "cell_type": "markdown",
      "metadata": {
        "id": "view-in-github",
        "colab_type": "text"
      },
      "source": [
        "<a href=\"https://colab.research.google.com/github/takeshitayy/ipynb2markdown/blob/main/ipynb2markdown.ipynb\" target=\"_parent\"><img src=\"https://colab.research.google.com/assets/colab-badge.svg\" alt=\"Open In Colab\"/></a>"
      ]
    },
    {
      "cell_type": "markdown",
      "source": [
        "# ipynb2markdown\n",
        "\n",
        "web上に公開されている Jupyter Notebook ファイル (ipynb) を markdown に変換する\n",
        "\n",
        "google colaboratory で実行する\n",
        "\n",
        "1. `url` に公開されている Notebook ファイル (ipynb) の URL を設定\n",
        "1. `ctrl + F9` ですべてを実行する\n",
        "1. マークダウン記法とプレビューが表示される\n",
        "\n"
      ],
      "metadata": {
        "id": "KT7D0XClPwI7"
      }
    },
    {
      "cell_type": "code",
      "source": [
        "import os\n",
        "\n",
        "#@title ipynb ファイルのURLを指定する\n",
        "url = \"\" #@param {type:\"string\"}\n",
        "\n",
        "if url.startswith(\"https://github.com\"):\n",
        "    # url が https://github.com の場合は、ipynb ファイルのurlに変換する\n",
        "    url = url.replace(\"https://github.com\", \"https://raw.githubusercontent.com\").replace(\"/blob\", \"\")\n",
        "\n",
        "ipynbFilename = os.path.basename(url)\n",
        "markdownFilename = ipynbFilename + '.md'\n",
        "print('URL: ' + url)\n",
        "print('ipynbFilename: ' + ipynbFilename)\n",
        "print('markdownFilename: '+ markdownFilename)"
      ],
      "metadata": {
        "id": "-T22JW7PQd7_"
      },
      "execution_count": null,
      "outputs": []
    },
    {
      "cell_type": "markdown",
      "source": [
        "## ipynb ファイルをダウンロード"
      ],
      "metadata": {
        "id": "Ejq5vipgcbuI"
      }
    },
    {
      "cell_type": "code",
      "execution_count": 27,
      "metadata": {
        "id": "UjkgCX23cl4D"
      },
      "outputs": [],
      "source": [
        "import requests\n",
        "response = requests.get(url)\n",
        "\n",
        "if response.status_code == 200:\n",
        "    # レスポンスのステータスコードが200（成功）の場合、ファイルを保存\n",
        "    with open(ipynbFilename, \"wb\") as file:\n",
        "        file.write(response.content)"
      ]
    },
    {
      "cell_type": "markdown",
      "source": [
        "## ipynb ファイルを マークダウンに変換"
      ],
      "metadata": {
        "id": "02O_vWmtdp2S"
      }
    },
    {
      "cell_type": "code",
      "source": [
        "import os\n",
        "import nbconvert\n",
        "from nbconvert import MarkdownExporter\n",
        "\n",
        "# Markdownエクスポーターを作成\n",
        "exporter = MarkdownExporter()\n",
        "\n",
        " # .ipynbファイルを読み込み\n",
        "with open(ipynbFilename, \"r\", encoding=\"utf-8\") as ipynb_file:\n",
        "    notebook_content = ipynb_file.read()\n",
        "\n",
        "# .ipynbファイルを.mdファイルに変換\n",
        "\n",
        "print(ipynbFilename)\n",
        "\n",
        "# markdownContent, _ = exporter.from_file(ipynbFilename)\n",
        "\n",
        "#print(markdownContent)"
      ],
      "metadata": {
        "colab": {
          "base_uri": "https://localhost:8080/"
        },
        "id": "rOZYt7hOcr3v",
        "outputId": "aa2cd020-a332-4cfc-b59f-52af97d42d92"
      },
      "execution_count": 35,
      "outputs": [
        {
          "output_type": "stream",
          "name": "stdout",
          "text": [
            "ipynb2markdown.ipynb\n"
          ]
        }
      ]
    },
    {
      "cell_type": "markdown",
      "source": [
        "## マークダウンの内容を表示"
      ],
      "metadata": {
        "id": "76YykfaEdgy1"
      }
    },
    {
      "cell_type": "code",
      "source": [
        "from IPython.display import Markdown\n",
        "\n",
        "Markdown(markdownContent)"
      ],
      "metadata": {
        "id": "1lRMhqi5dTSF"
      },
      "execution_count": null,
      "outputs": []
    }
  ]
}